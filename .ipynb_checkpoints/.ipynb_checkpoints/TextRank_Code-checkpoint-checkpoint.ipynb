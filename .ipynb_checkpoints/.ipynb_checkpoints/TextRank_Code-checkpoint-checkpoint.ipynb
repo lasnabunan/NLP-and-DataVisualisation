{
 "cells": [
  {
   "cell_type": "code",
   "execution_count": 1,
   "metadata": {},
   "outputs": [
    {
     "name": "stdout",
     "output_type": "stream",
     "text": [
      "{'front', 'myself', 'with', 'six', 'mostly', 'before', 'about', 'seems', 'upon', 'make', '‘ll', 'just', 'everything', 'but', 'almost', 'does', 'back', 'whole', 'anywhere', 'over', 'own', 'their', 'off', 'both', 'whereupon', 'ca', 'serious', 'alone', 'somehow', 'a', 'namely', 'we', 'her', 'everyone', '’s', 'next', 'themselves', 'whoever', '’ve', 'empty', 'wherever', 'few', 'my', 'around', 'any', 'get', 'nowhere', 'noone', 'else', \"'ll\", 'enough', 'name', 'who', 'why', 'really', 'never', 'may', 'whereas', 'or', 'again', \"'s\", 'whose', 'itself', 'no', 'cannot', 'please', 'throughout', 'three', 'either', 'once', 'herein', 'already', 'first', 'amongst', 'where', 'top', 'can', 'becoming', 'after', 'same', \"'d\", 'those', 're', 'should', 'amount', 'along', 'am', 'made', 'become', 'eleven', 'against', '’d', '‘s', 'which', 'here', 'hereafter', 'some', 'were', 'besides', 'still', 'doing', 'take', 'was', 'therein', 'although', 'twenty', 'whereafter', 'us', 'in', 'because', 'bottom', 'yourself', 'indeed', 'beforehand', 'sixty', 'of', 'sometime', 'elsewhere', 'whatever', 'anyone', 'neither', 'forty', 'on', 'by', 'you', 'behind', 'thus', 'anyway', 'afterwards', 'quite', 'did', 'me', 'many', 'than', 'rather', 'through', 'done', 'across', 'hundred', 'seeming', 'the', 'as', 'such', 'hence', 'show', 'always', 'too', 'within', 'nine', '’ll', 'ours', 'out', 'two', 'to', 'this', 'say', 'put', \"'ve\", 'until', 'very', 'could', 'it', 'used', 'ten', 'another', 'all', 'call', 'nothing', 'eight', 'former', 'what', 'under', 'might', 'unless', 'would', 'latter', 'becomes', 'an', 'his', 'these', 'if', '‘m', 'ever', 'move', 'since', 'except', 'therefore', '’re', 'everywhere', 'see', 'however', 'thereupon', 'whom', 'he', 'above', '‘ve', 'from', 'twelve', 'via', 'somewhere', 'less', \"'m\", 'them', 'him', 'himself', 'more', 'will', 'also', 'thence', 'go', 'last', 'whenever', 'toward', 'up', 'has', 'whence', 'most', '‘re', 'must', 'each', 'though', 'mine', 'otherwise', 'among', 'sometimes', 'thru', 'yours', 'your', '’m', 'anyhow', 'our', 'had', 'keep', 'seem', 'became', 'nor', 'someone', 'into', 'its', 'hereupon', \"n't\", 'hers', 'that', 'she', 'other', \"'re\", 'much', 'i', 'beside', 'hereby', 'below', 'nobody', 'anything', 'perhaps', 'not', 'between', 'yet', 'thereafter', 'ourselves', 'moreover', 'wherein', 'now', 'thereby', 'least', 'well', 'five', 'been', 'n‘t', 'there', 'others', 'they', 'side', 'seemed', 'even', 'fifty', 'beyond', 'whether', 'meanwhile', 'onto', 'latterly', 'is', 'are', 'third', 'whereby', 'give', 'n’t', 'without', 'one', 'how', 'down', 'be', 'several', 'herself', 'at', 'have', 'often', 'further', 'due', 'towards', 'full', 'using', 'together', 'while', 'none', 'when', 'fifteen', 'and', 'only', 'four', 'whither', 'regarding', 'formerly', 'various', 'yourselves', 'nevertheless', 'every', 'then', '‘d', 'so', 'something', 'during', 'for', 'do', 'being', 'part', 'per'}\n"
     ]
    }
   ],
   "source": [
    "from spacy.lang.en.stop_words import STOP_WORDS\n",
    "print(STOP_WORDS)"
   ]
  },
  {
   "cell_type": "code",
   "execution_count": null,
   "metadata": {},
   "outputs": [],
   "source": []
  }
 ],
 "metadata": {
  "kernelspec": {
   "display_name": "Python 3",
   "language": "python",
   "name": "python3"
  },
  "language_info": {
   "codemirror_mode": {
    "name": "ipython",
    "version": 3
   },
   "file_extension": ".py",
   "mimetype": "text/x-python",
   "name": "python",
   "nbconvert_exporter": "python",
   "pygments_lexer": "ipython3",
   "version": "3.7.3"
  }
 },
 "nbformat": 4,
 "nbformat_minor": 2
}
