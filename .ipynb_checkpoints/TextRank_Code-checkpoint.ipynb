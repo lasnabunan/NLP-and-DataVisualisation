{
 "cells": [
  {
   "cell_type": "code",
   "execution_count": 1,
   "metadata": {},
   "outputs": [
    {
     "name": "stdout",
     "output_type": "stream",
     "text": [
      "{'front', 'myself', 'with', 'six', 'mostly', 'before', 'about', 'seems', 'upon', 'make', '‘ll', 'just', 'everything', 'but', 'almost', 'does', 'back', 'whole', 'anywhere', 'over', 'own', 'their', 'off', 'both', 'whereupon', 'ca', 'serious', 'alone', 'somehow', 'a', 'namely', 'we', 'her', 'everyone', '’s', 'next', 'themselves', 'whoever', '’ve', 'empty', 'wherever', 'few', 'my', 'around', 'any', 'get', 'nowhere', 'noone', 'else', \"'ll\", 'enough', 'name', 'who', 'why', 'really', 'never', 'may', 'whereas', 'or', 'again', \"'s\", 'whose', 'itself', 'no', 'cannot', 'please', 'throughout', 'three', 'either', 'once', 'herein', 'already', 'first', 'amongst', 'where', 'top', 'can', 'becoming', 'after', 'same', \"'d\", 'those', 're', 'should', 'amount', 'along', 'am', 'made', 'become', 'eleven', 'against', '’d', '‘s', 'which', 'here', 'hereafter', 'some', 'were', 'besides', 'still', 'doing', 'take', 'was', 'therein', 'although', 'twenty', 'whereafter', 'us', 'in', 'because', 'bottom', 'yourself', 'indeed', 'beforehand', 'sixty', 'of', 'sometime', 'elsewhere', 'whatever', 'anyone', 'neither', 'forty', 'on', 'by', 'you', 'behind', 'thus', 'anyway', 'afterwards', 'quite', 'did', 'me', 'many', 'than', 'rather', 'through', 'done', 'across', 'hundred', 'seeming', 'the', 'as', 'such', 'hence', 'show', 'always', 'too', 'within', 'nine', '’ll', 'ours', 'out', 'two', 'to', 'this', 'say', 'put', \"'ve\", 'until', 'very', 'could', 'it', 'used', 'ten', 'another', 'all', 'call', 'nothing', 'eight', 'former', 'what', 'under', 'might', 'unless', 'would', 'latter', 'becomes', 'an', 'his', 'these', 'if', '‘m', 'ever', 'move', 'since', 'except', 'therefore', '’re', 'everywhere', 'see', 'however', 'thereupon', 'whom', 'he', 'above', '‘ve', 'from', 'twelve', 'via', 'somewhere', 'less', \"'m\", 'them', 'him', 'himself', 'more', 'will', 'also', 'thence', 'go', 'last', 'whenever', 'toward', 'up', 'has', 'whence', 'most', '‘re', 'must', 'each', 'though', 'mine', 'otherwise', 'among', 'sometimes', 'thru', 'yours', 'your', '’m', 'anyhow', 'our', 'had', 'keep', 'seem', 'became', 'nor', 'someone', 'into', 'its', 'hereupon', \"n't\", 'hers', 'that', 'she', 'other', \"'re\", 'much', 'i', 'beside', 'hereby', 'below', 'nobody', 'anything', 'perhaps', 'not', 'between', 'yet', 'thereafter', 'ourselves', 'moreover', 'wherein', 'now', 'thereby', 'least', 'well', 'five', 'been', 'n‘t', 'there', 'others', 'they', 'side', 'seemed', 'even', 'fifty', 'beyond', 'whether', 'meanwhile', 'onto', 'latterly', 'is', 'are', 'third', 'whereby', 'give', 'n’t', 'without', 'one', 'how', 'down', 'be', 'several', 'herself', 'at', 'have', 'often', 'further', 'due', 'towards', 'full', 'using', 'together', 'while', 'none', 'when', 'fifteen', 'and', 'only', 'four', 'whither', 'regarding', 'formerly', 'various', 'yourselves', 'nevertheless', 'every', 'then', '‘d', 'so', 'something', 'during', 'for', 'do', 'being', 'part', 'per'}\n"
     ]
    }
   ],
   "source": [
    "from spacy.lang.en.stop_words import STOP_WORDS\n",
    "print(STOP_WORDS)"
   ]
  },
  {
   "cell_type": "code",
   "execution_count": 18,
   "metadata": {},
   "outputs": [
    {
     "ename": "SyntaxError",
     "evalue": "unexpected character after line continuation character (<ipython-input-18-978a2a4f1ca1>, line 2)",
     "output_type": "error",
     "traceback": [
      "\u001b[1;36m  File \u001b[1;32m\"<ipython-input-18-978a2a4f1ca1>\"\u001b[1;36m, line \u001b[1;32m2\u001b[0m\n\u001b[1;33m    pattern = (\\s+[a-zA-Z]*)\u001b[0m\n\u001b[1;37m                            ^\u001b[0m\n\u001b[1;31mSyntaxError\u001b[0m\u001b[1;31m:\u001b[0m unexpected character after line continuation character\n"
     ]
    }
   ],
   "source": [
    "word_s =['andar', 'ata', 'adi', 'apa', 'apana', 'apani', 'apani' 'apane', 'abhi', 'abhi',  'adi', 'apa', 'inhim', 'inhem', 'inhom', 'itayadi', 'ityadi', 'ina', 'inaka', 'inhim', 'inhem', 'inhom', 'isa', 'isaka', 'isaki', 'isaki', 'isake', 'isamem', 'isi', 'isi', 'ise', 'unhim', 'unhem', 'unhom', 'una', 'unaka', 'unaki', 'unaki', 'unake', 'unako', 'unhim', 'unhem', 'unhom', 'usa', 'usake', 'usi', 'usi', 'use', 'eka', 'evam', 'esa', 'ese', 'aise', 'ora', 'aura', 'kai', 'kai', 'kara', 'karata', 'karate', 'karana', 'karane', 'karem', 'kahate', 'kaha', 'ka', 'kaphi', 'kai', 'ki', 'kinhem', 'kinhom', 'kitana', 'kinhem', 'kinhom', 'kiya', 'kira', 'kisa', 'kisi', 'kisi', 'kise', 'ki', 'kuchha', 'kula', 'ke', 'ko', 'koi', 'koi', 'kona', 'konasa', 'kauna', 'kaunasa', 'gaya', 'ghara', 'jaba', 'jaham', 'jaham', 'ja', 'jinhem', 'jinhom', 'jitana', 'jidhara', 'jina', 'jinhem', 'jinhom', 'jisa', 'jise', 'jidhara', 'jesa', 'jese', 'jaisa', 'jaise', 'jo', 'taka', 'taba', 'taraha', 'tinhem', 'tinhom', 'tina', 'tinhem', 'tinhom', 'tisa', 'tise', 'to', 'tha', 'thi', 'thi', 'the', 'dabara', 'davara', 'diya', 'dusara', 'dusare', 'dusare', 'do', 'dvara', 'na', 'nahim', 'nahim', 'na', 'niche', 'nihayata', 'niche', 'ne', 'para', 'pahale', 'pura', 'pura', 'pe', 'phira', 'bani', 'bani', 'bahi', 'bahi', 'bahuta', 'bada', 'bala', 'bilakula', 'bhi', 'bhitara', 'bhi', 'bhitara', 'magara', 'mano', 'me', 'mem', 'yadi', 'yaha', 'yaham', 'yaham', 'yahi', 'yahi', 'ya', 'yiha', 'ye', 'rakhem', 'ravasa', 'raha', 'rahe', 'vasa', 'lie', 'liye', 'lekina', 'va', 'vageraha', 'varaga', 'varga', 'vaha', 'vaham', 'vaham', 'vahim', 'vahim', 'vale', 'vuha', 've', 'va', 'airaha', 'sanga', 'sakata', 'sakate', 'sabase', 'sabhi', 'sabhi', 'satha', 'sabuta', 'sabha', 'sara', 'se', 'so', 'hi', 'hi', 'hua', 'hua', 'hui', 'hui', 'hue', 'he', 'hem', 'hai', 'haim', 'ho', 'hota', 'hoti', 'hoti', 'hote', 'hona', 'hone''sabha', 'sara', 'se', 'so', 'hi', 'hi', 'hua', 'hua', 'hui', 'hui', 'hue', 'he', 'hem', 'hai', 'haim', 'ho', 'hota', 'hoti', 'hoti', 'hote', 'hona', 'hone''sabha', 'sara', 'se', 'so', 'hi', 'hi', 'hua', 'hua', 'hui', 'hui', 'hue', 'he', 'hem', 'hai', 'haim', 'ho', 'hota', 'hoti', 'hoti', 'hote', 'hona', 'hone']\n",
    "pattern = (\\s+[a-zA-Z]*)\n",
    "\n",
    "import re\n",
    "for w in word_s:\n",
    "    pattern = r'\\s'+w+r'\\s'\n",
    "    s = re.sub(pattern, '', word_s)\n",
    "    print (s)"
   ]
  },
  {
   "cell_type": "code",
   "execution_count": 13,
   "metadata": {},
   "outputs": [],
   "source": [
    "word_s =[\"andar ata adi apa apana apani apani apane abhi abhi adi apa inhim inhem inhom itayadi ityadi ina inaka inhim inhem inhom isa isaka isaki isaki isake isamem isi isi ise unhim unhem unhom una unaka unaki unaki unake unako unhim unhem unhom usa usake usi usi use eka evam esa ese aise ora aura kai kai kara karata karate karana karane karem kahate kaha ka kaphi ka i ki kinhem kinhom kitana kinhem kinhom kiya kira kisa kisi kisi kise ki kuchha kula ke ko koi koi kona konasa kauna kaunasa gaya ghara jaba jaham jaham ja jinhem jinhom jitana jidhara jina jinhem jinhom jisa jise jidhara jesa jese jaisa jaise jo taka taba taraha tinhem tinhom tina tinhem tinhom tisa tise to tha thi thi the dabara davara diya dusara dusare dusare do dvara na nahim nahim na niche nihayata niche ne para pahale pura pura pe phira bani bani bahi bahi bahuta bada bala bilakula bhi bhitara bhi bhitara magara mano me mem yadi yaha yaham yaham yahi yahi ya yiha ye rakhem ravasa raha rahe ?vasa lie liye lekina va vageraha varaga varga vaha vaham vaham vahim vahim vale vuha ve va airaha sanga sakata sakate sabase sabhi sabhi satha sabuta sabha sara se so hi hi hua hua hui hui hue he hem hai haim ho hota hoti hoti hote hona hone\"]\n"
   ]
  },
  {
   "cell_type": "code",
   "execution_count": 16,
   "metadata": {},
   "outputs": [
    {
     "ename": "SyntaxError",
     "evalue": "unexpected character after line continuation character (<ipython-input-16-dd2463240142>, line 1)",
     "output_type": "error",
     "traceback": [
      "\u001b[1;36m  File \u001b[1;32m\"<ipython-input-16-dd2463240142>\"\u001b[1;36m, line \u001b[1;32m1\u001b[0m\n\u001b[1;33m    pattern =(\\w\\s)\u001b[0m\n\u001b[1;37m                   ^\u001b[0m\n\u001b[1;31mSyntaxError\u001b[0m\u001b[1;31m:\u001b[0m unexpected character after line continuation character\n"
     ]
    }
   ],
   "source": [
    "pattern =(\\w\\s)"
   ]
  },
  {
   "cell_type": "code",
   "execution_count": 17,
   "metadata": {},
   "outputs": [
    {
     "ename": "AttributeError",
     "evalue": "'list' object has no attribute 'split'",
     "output_type": "error",
     "traceback": [
      "\u001b[1;31m---------------------------------------------------------------------------\u001b[0m",
      "\u001b[1;31mAttributeError\u001b[0m                            Traceback (most recent call last)",
      "\u001b[1;32m<ipython-input-17-b14c6d057e24>\u001b[0m in \u001b[0;36m<module>\u001b[1;34m\u001b[0m\n\u001b[0;32m      1\u001b[0m \u001b[0mw\u001b[0m \u001b[1;33m=\u001b[0m \u001b[1;33m[\u001b[0m\u001b[1;34m\"सम्मान भगवान अंधानुकरण करार अनुभव ज्ञान अनुमति अनुमान विरोध आग्रह व्याख्या अन्वेषण खोज, चिन्तन, घृणा, संदेश, आविष्कार, कार्य, लोग, व्यक्ति, नाम, क्षमता, रक्त, चूहा, ऊतक, कोष्ठक, सत्व, पैर, कोशिका, जरिया, प्रहार, स्थिति, अंत, उपचार, संकेत, द्वारा, उपाय, काल, निर्माण, चीज, कानून, निराशा, प्रशासन, रोग, दुनिया, जानकारी, छूट, तीव्रता, अस्वीकृति, इमारत, अभाव, सही, अन्यथा, कहा, प्रक्रिया, अनुच्छेद, योग्यता, बोध, कहना, विशेषज्ञ, श्रम, उपयोग, व्यवहार, शीर्षक, सार, अंग, अंश, शरीर, स्तन, ऑपरेशन, प्राणी, परिणाम, परमाणु, मौत, आत्मा, सच्चाई, चिन्ता, कोलाहल, हानि, अग्न्याशय, कचहरी, संस्थान, लाभ, वर्तमान, राष्ट्रपति, कोप, भला, अध्ययन, परिवर्तन, एक, अपेक्षा, आवश्यकता, मुकाबला, विश्वास, तबाही, बात, तात्पर्य, उद्देश्य, पसन्द, कारण, धन, नौबत, परिस्थिति, वैज्ञानिक, हस्ती, प्रतिष्ठा, अस्पताल, आज, कौशल, मानव, उदाहरण, पेट, सहारा, सुविधा, सहायता, चिकित्सक, माँग, औषधि, प्रतिदान, उत्साह, प्रयास, उपस्थिति, स्तन, समस्या, ऊर्जा, वर्णन, गलती, धैर्य, कर्तव्य, पेशा, मशीन, युगों, दंड, पुस्तक, बचत, विवरण, कुत्ता, कुष्ठ, शब्दकोश, कोष, खरीदारी, कोष, खर्च, सिर, कलकत्ता, गरिमा, बम, चरित्र, जानवर, दुनिया, जीवन, बराबरी, आह्वान, विशेषज्ञता, सलाहकार, दर, समझ, मस्तिष्क, मध्यान्ह, अवधारणा, निदान, नियंत्रण, कैन्सर, अर्बुद, पश्चिम, परामर्श, गुना, समिति, पूँजी, समझ, संदर्भ, प्रकार, प्रकृति, दृष्टांत, विरासत, हस्तक्षेप, मरीज, देश, भोजन, विचार, याचना, लेखक, रसायन, अमेरिका, सालों, विनम्रता, संस्थापन, साथ, सूक्ष्मदर्शी, भारत, आवाज, स्वास्थ्य, असफलता, आलेख, उगाही, मार, धूमधाम, पुस्तिका, परीक्षा, देखभाल, शब्द, लौट, विकिरण, प्रबंधन, सच्चा, स्फीति, स्वीकार, अनुभाग, बजट, अन्तर, दिल्ली, विभाग, प्रोटीन, बम्बई, अवधान, सरकार, मद्रास, प्रयोगशाला, भारतीय, विज्ञान, शुल्क, तथ्य, तथ्य, आश्वासन, याद, आधार, उच्छेदन, प्रतिक्रिया, दमक, टिप्पणी, पता, ज़ोर, पराकाष्ठा, पहुँच, मेरी, रोक, अंग, खरब, रे, डॉलर, जाँच, परीक्षण, ब्रिटेन, कनाडा, हिस्सा, लक्षण, शल्य, मानवजाति, स्वेच्छाचारिता, मिथक, सक्रियता, पुष्टि, कुढ़ा, आश्चर्य, झलक, जगह, क्षेत्र, ओर, पार्टी, यहाँ, समय, अनुप्रयोग, सेवा, केन्द्र, कुछ, विमान, संकाय, समाज, सदस्य, पहचान\"\u001b[0m\u001b[1;33m]\u001b[0m\u001b[1;33m\u001b[0m\u001b[1;33m\u001b[0m\u001b[0m\n\u001b[1;32m----> 2\u001b[1;33m \u001b[0ms\u001b[0m\u001b[1;33m=\u001b[0m \u001b[0mw\u001b[0m\u001b[1;33m.\u001b[0m\u001b[0msplit\u001b[0m\u001b[1;33m(\u001b[0m\u001b[1;34m\", \"\u001b[0m\u001b[1;33m)\u001b[0m\u001b[1;33m\u001b[0m\u001b[1;33m\u001b[0m\u001b[0m\n\u001b[0m",
      "\u001b[1;31mAttributeError\u001b[0m: 'list' object has no attribute 'split'"
     ]
    }
   ],
   "source": [
    "w = [\"सम्मान भगवान अंधानुकरण करार अनुभव ज्ञान अनुमति अनुमान विरोध आग्रह व्याख्या अन्वेषण खोज, चिन्तन, घृणा, संदेश, आविष्कार, कार्य, लोग, व्यक्ति, नाम, क्षमता, रक्त, चूहा, ऊतक, कोष्ठक, सत्व, पैर, कोशिका, जरिया, प्रहार, स्थिति, अंत, उपचार, संकेत, द्वारा, उपाय, काल, निर्माण, चीज, कानून, निराशा, प्रशासन, रोग, दुनिया, जानकारी, छूट, तीव्रता, अस्वीकृति, इमारत, अभाव, सही, अन्यथा, कहा, प्रक्रिया, अनुच्छेद, योग्यता, बोध, कहना, विशेषज्ञ, श्रम, उपयोग, व्यवहार, शीर्षक, सार, अंग, अंश, शरीर, स्तन, ऑपरेशन, प्राणी, परिणाम, परमाणु, मौत, आत्मा, सच्चाई, चिन्ता, कोलाहल, हानि, अग्न्याशय, कचहरी, संस्थान, लाभ, वर्तमान, राष्ट्रपति, कोप, भला, अध्ययन, परिवर्तन, एक, अपेक्षा, आवश्यकता, मुकाबला, विश्वास, तबाही, बात, तात्पर्य, उद्देश्य, पसन्द, कारण, धन, नौबत, परिस्थिति, वैज्ञानिक, हस्ती, प्रतिष्ठा, अस्पताल, आज, कौशल, मानव, उदाहरण, पेट, सहारा, सुविधा, सहायता, चिकित्सक, माँग, औषधि, प्रतिदान, उत्साह, प्रयास, उपस्थिति, स्तन, समस्या, ऊर्जा, वर्णन, गलती, धैर्य, कर्तव्य, पेशा, मशीन, युगों, दंड, पुस्तक, बचत, विवरण, कुत्ता, कुष्ठ, शब्दकोश, कोष, खरीदारी, कोष, खर्च, सिर, कलकत्ता, गरिमा, बम, चरित्र, जानवर, दुनिया, जीवन, बराबरी, आह्वान, विशेषज्ञता, सलाहकार, दर, समझ, मस्तिष्क, मध्यान्ह, अवधारणा, निदान, नियंत्रण, कैन्सर, अर्बुद, पश्चिम, परामर्श, गुना, समिति, पूँजी, समझ, संदर्भ, प्रकार, प्रकृति, दृष्टांत, विरासत, हस्तक्षेप, मरीज, देश, भोजन, विचार, याचना, लेखक, रसायन, अमेरिका, सालों, विनम्रता, संस्थापन, साथ, सूक्ष्मदर्शी, भारत, आवाज, स्वास्थ्य, असफलता, आलेख, उगाही, मार, धूमधाम, पुस्तिका, परीक्षा, देखभाल, शब्द, लौट, विकिरण, प्रबंधन, सच्चा, स्फीति, स्वीकार, अनुभाग, बजट, अन्तर, दिल्ली, विभाग, प्रोटीन, बम्बई, अवधान, सरकार, मद्रास, प्रयोगशाला, भारतीय, विज्ञान, शुल्क, तथ्य, तथ्य, आश्वासन, याद, आधार, उच्छेदन, प्रतिक्रिया, दमक, टिप्पणी, पता, ज़ोर, पराकाष्ठा, पहुँच, मेरी, रोक, अंग, खरब, रे, डॉलर, जाँच, परीक्षण, ब्रिटेन, कनाडा, हिस्सा, लक्षण, शल्य, मानवजाति, स्वेच्छाचारिता, मिथक, सक्रियता, पुष्टि, कुढ़ा, आश्चर्य, झलक, जगह, क्षेत्र, ओर, पार्टी, यहाँ, समय, अनुप्रयोग, सेवा, केन्द्र, कुछ, विमान, संकाय, समाज, सदस्य, पहचान\"]\n",
    "s= w.split(\", \")"
   ]
  },
  {
   "cell_type": "code",
   "execution_count": null,
   "metadata": {},
   "outputs": [],
   "source": []
  }
 ],
 "metadata": {
  "kernelspec": {
   "display_name": "Python 3",
   "language": "python",
   "name": "python3"
  },
  "language_info": {
   "codemirror_mode": {
    "name": "ipython",
    "version": 3
   },
   "file_extension": ".py",
   "mimetype": "text/x-python",
   "name": "python",
   "nbconvert_exporter": "python",
   "pygments_lexer": "ipython3",
   "version": "3.7.3"
  }
 },
 "nbformat": 4,
 "nbformat_minor": 2
}
