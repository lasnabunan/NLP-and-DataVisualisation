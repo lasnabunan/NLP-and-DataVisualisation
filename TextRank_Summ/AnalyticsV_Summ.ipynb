{
 "cells": [
  {
   "cell_type": "code",
   "execution_count": 3,
   "metadata": {},
   "outputs": [
    {
     "name": "stderr",
     "output_type": "stream",
     "text": [
      "[nltk_data] Downloading package punkt to\n",
      "[nltk_data]     C:\\Users\\HP\\AppData\\Roaming\\nltk_data...\n",
      "[nltk_data]   Package punkt is already up-to-date!\n"
     ]
    }
   ],
   "source": [
    "import numpy as np\n",
    "import pandas as pd\n",
    "import nltk\n",
    "from nltk.tokenize import sent_tokenize\n",
    "nltk.download('punkt') # one time execution\n",
    "import re"
   ]
  },
  {
   "cell_type": "code",
   "execution_count": 13,
   "metadata": {},
   "outputs": [],
   "source": [
    "text = '''kainsara ke bare mem lekhaka ki eka pustaka, jo 1973 mem prakashita hui, se eka anuchchheda yaham duharae jane yogya hai| kuchha bhi na karana – jaba taka kainsara ke marija ke marज़ se badhya na ho jaem taba taka na nidana karana aura na upachara - yaha ananubhutachikitsa, svechchhacharita, eka prakara ke mera-adara-karo-tuma-(marija)-tatha-prakriti mem vishvasa ki parakashtha ka rupa hai| yaha asvikriti ko eka suyogya ashvasana ya socha-samaja bhari parityaga-bhavana ka sahara dekara hastakshepa karane se mana karana hai|\n",
    "mana ki kabhi bhi kuchha na karane ki naubata nahim ati, parantu jaba kabhi jaruri ho, yaha \"kabhi kuchha nahim\" jepharsana ka \"pavitra\" chhala hona chahie| isa para adhika ja़ora dene ki avashyakata ho hi nahim sakati ki koi bhi chikitsaka pahale eka salahakara hota hai, karta sirpha tabhi jaba paristhiti badhya kare| yadi koi marija usase puchhe ki kahim vaha chikitsakiya anveshana ki duniya mem yulesija़ to nahim hai, to bhale hi vaha rasayana chikitsa se mara dala jae, ya 'goldena geta brija' se niche gira paड़e, chikitsaka ka paramarsha to eka joradara \"nahim\" hi hona chahie, jisake lie marija ko na to usaka shulka chukane se mana karana chahie aura na hi use kanuna ki kachahari mem ghasitana chahie| kainsara vijnana taka ke kshetra mem meri ka marga (chintana aura akriyata ka marga) martha ke marga se adhika varenya hai, aisa samajane ka tatparya ho sakata hai manasika/kayika manava lagata ke apavyaya para, janavarom para aura isake pratidana ke rupa mem kainsara ki samagra samasya para kathina shrama se uparjita dhana ki atyanta bachata| eka hridaya roga visheshajna ne tippani ki hai ki i ke epha (i si ji) mashina ne paramanu bama se kahim jyada tabahi machai hai| yaha tabahi isa mashina dvara janita hridaya vikshipti ke rupa mem hai| krishchiyana barnarda ikeji (isiji) ke \"vidyutiya arekha\" ki bata karate haim jo uddeshyapurna jivana jine vale khushadila insanom ko nirasha ke bhayabhita, dukhi praniyom mem badala dalate haim|\n",
    "hairisana ne tippani ki hai ki chikitsaka loga ikejiaitisa roga se grasta haim aura unake marijom ka bhagavana hi bhala karem| krausa ne sahi hi kaha hai ki \"nidana sarvadhika samanya rogom mem se eka hai\"|\n",
    "abataka hama loga yaha bodha vikasita karane mem sakshama ho gae haim ki yadi kainsara takaliphadeha na ho to kuchha bhi karane ki jarurata nahim hai, yaham taka ki nidana bhi nahim, aura isa prakara sabhi anusandhanom para hone vala kharcha bachaya ja sakata hai jo anyatha hota hai| ekabara yadi nidana ho jane para upachara apariharya nahim hai| yadi kainsara takaliphadeha hai, to alpatama hi kiya jana chahie| ajakala, amula shalya-kriya ke bada stana kainsara ke sandarbha mem jo parinama prapta hote haim lagabhaga vaise hi parinama mahaja stana-arbuda ke uchchhedana ke bada samane ate haim| aisa nyunatama upachara anya prakara ke kaisarom mem bhi vyavaharya hai - purusha-granthi, peta, agnyashaya, ityadi| kainsara visheshajnom ko aura adhika dhana kamane ke lie \"logom ke satha samanom ki taraha\" vyavahara karane ki chhuta nahim hai| salom se kainsara ke ऑpareshana marija ke labha ke bajaya vyaktigata labha ke lie kie jate rahe; abhi bhi kula milakara sthiti mem koi antara nahim aya hai| anavashyaka shalya-kriya' ki vartamana dara shalya chikitsakom ke ‘arthika’ labha para shaॉ dvara kie gae prahara ko nyayasangata thaharati hai| arle ke shabdom mem kaha jae to abhi taka kainsara sambandhi shodha ka artha yaha nikala hai ki jyadatara loga kainsara se marane ke bajaya kainsara ke para jite haim| phira bhi, mera vishvasa hai ki amariki aushadhi ke sara-sankshepa ko koi vyakti isa ukti ke adhara para uchita rupa se tarkasangata karara de sakata hai ki jo kisi roga-dasha ka chuhe ya kutte mem upachara sambhava bana sakata hai use, utane hi dhana, prayasa aura buddhi ke satha, manushya ki aushadhi para bhi lagu kiya ja sakata hai| barneta ne jo bata amerika ke bare mem kahi hai, kisi bhi anya desha para lagu ki ja sakati hai| bambai mem 1952 mem sansthapita kainsara shodha sansthana bharata sarakara ke paramanu urja sansthapana ke adhina eka vitta-poshita sanstha hai| isa pancha-manjili imarata mem ve adhikatara chijem haim jo kisi kainsara sansthana mem ho sakati haim| yaha apani eka bahurangi, janasamanya ke upayoga ke lie uddishta, pustika mem tamama chatukaritapurna varnana deta hai jisamem samanya, kainsara-purva evam kainsarakaraka utakom ke adhyayana ke lie 200,000 guna baड़a avardhana dene vale philipa iema 300 ilektraॉna sukshmadarshi ki janakari bhi shamila hai| vijnana ko manushya ke lie satya ki khoja hona chahie| bajata anuprayoga ka ekamatra ansha hai jisamem ja़ra bhi sara hai| vittiya koshom ke upayoga ke sandarbha mem rashtriya svasthya sansthana (amarika) ke adhyayana anubhaga ke eka sadasya ki uparyukta tippani kainsara vijnana ke bare mem hiksana ka eka drishtanta hai ki jaba kya kiya jae yaha samaja mem na ae to aura adhika arthika sahayata ki manga karo| sankaya arjita vittiya kosha ke prashasana mem nimagna haim, aura unaka prachalita sahityika kaushala hai vittiya kosha ke lie yachana-prastava likhana| sankshepa mem, akadamika jivana vichara-chintana ke lie na hokara, sakriyata ka bana gaya hai| aja vijnana mem kisi vyakti ki pahachana isa bata se hoti hai ki vaha kitana kosha la raha hai| amerika mem, kainsara ke shodha ke lie varshika vyaya shighra hi 1 kharaba daॉlara ke stara para pahuncha jaega, aura sirpha़ mudra-sphiti se kadama milate hue ise prati varsha kama se kama 1 karoड़ daॉlara ki dara se baढ़ana hoga| kainsara ke pasa pitja़a, madhyanha bhojana, thietara partiyam, kosha ekatrita karane ke luau aura chamaka-damaka haim, aura 'vastavika daॉlara tatha pratishtha mem', hridaya/mana: roga bhi isaki barabari nahim kara sakate haim| unhem chinta karane ki jarurata nahim; kainsara unhem nirasha nahim karega; kainsara ke bare mem logom ki samaja aisa kara sakati hai| kainsara vijnana ka yaha sansara hai jonsom ke satha-satha na chala pane ki ati samanya manaviya asaphalata| kisi sanstha dvara arjita raikhika gativardhaka kisi anya (sanstha) ke jyada baड़e gativardhaka ke samane lajjita ho uthata hai| barmaina yaha vivarana dete haim ki kisa prakara jaba kisi namachina hasti ko kuchha ho jata hai to sansthaem isase apani punji jutane mem bhiड़ jati haim| bharata ke rashtrapati, sanjiva reddi, ko phephaड़e ke arbuda se grasta paya gaya| hamesha ki taraha ke dhumadhama ke satha unhem vimana se kainsara shodha ke makka- slona-ketaringa instityuta, nyuyaॉrka, le jaya gaya| kisi prakara, bharata sarakara ko yaha samaja diya gaya ki aisa to karana hi tha, kyonki bharata ke pasa raikhika gativardhaka nahim hai| kisi ne virodha jataya, parantu sansthapana ke kolahala mem usaki avaja duba kara raha gai| rashtrapati ki bimari se apeksha ki jati hai ki vaha bharata ke pramukha kainsara kendrom ke lie pratishthita raikhika gativardhaka ki virasata chhoड़ jaegi| varsha 1968 ke lie amerika ne, pratyaksha ya apratyaksha rupa se, kainsara para 15 biliyana daॉlara kharcha kie| 1994 mem svasthya avadhana para kula vyaya pratidina biliyana daॉlara se bhi adhika jane ka anumana hai| nissandeha, isaka eka kapha़i baड़a hissa avashya hi kainsara ke nidana, punarnidana, upachara tatha punaruupachara ke lie hoga| bahuta sare bharatiya jo svayam apane evam samaja ke lie eka upayogi jivana ji sakane mem sakshama haim, dhana ke abhava mem upachara ki yachana karane jate haim - chahe vaha tyubarkyulosisa, kushtha, ya jirna poliyonyelaitisa ke lie ho - jabaki apani tamama parishkrita suvidhaom ke satha kainsara shodha evam upachara bambai, dilli, kalakatta aura madrasa ke mukhya kendrom mem chhae hue haim jaham ve sanriddha pashchimi jagata ka andhanukarana karate haim| svayam bharatiya kainsara sosayati, apane janma se hi, 'amerikana kainsara sosayati ki mahatvapurna seva se utprerita' thi|\n",
    "ashcharya ki koi bata nahim ki hama raikhika gativardhakom ki kharidari ke lie nikala pada़e haim| visheshikrita sansthanom mem 'hama roga ke bare mem saba janate haim' ka mahaula chhaya hua hai| hamari chinta yaham bada vale mudde ko lekara hai| rogom mem sabase daravane nama, kainsara, ke satha yaha sahaja hi hai ki loga visheshajnata kendrom ki talasha karate haim| vigata varsha mem hamane kainsara para prashansaniya aura vistrita chikitsopachara karya gaira-visheshajnata vale \"sadharana\" aspatalom mem dekha hai| bambai ka visheshajnata-prapta kainsara kendra, tata memoriyala haॉspitala, mastishka kainsara para 'sadharana' aspatalom (jinase lekhaka juड़e hue haim) ke mukabale kama karya karata hai jabaki usake pasa eka tantrika shalya vibhaga hai joki mastishka kainsara ke mamalom ke lie bambai se bahara ke marijom ke lie bhi eka sandarbha kendra bana chuka hai| sadharana aspatalom mem kainsara ke bare mem kie gae nidana, utakavikriti tatha shava-pariksha sambandhi adhyayana bhi mahatvapurna hote haim| phira bhi jo sarvadhika mahatvapurna bata hai vaha yaha tathya hai ki kisi sadharana aspatala mem upacharita kainsara ka mamala jaba kisi visheshajnata-prapta kendra mem upacharita hota hai, to jyada badatara parinama nahim deta hai - eka aisi sachchai jo vaishvika pushti ki anumati deti hai| kainsara ke upacharakarta ka mukhya kama hai gathana dekhana, shalya-kriya dvara use katakara hata dena aura/ya eksa-re, davaom aura haॉrmonom ke jariye use kama kara dena| \"kainsara\" ka roga-nidana, arthata kainsarakaraka gathana/gathanom ka pata lagana naidanika parikshana aura janchom para adharita hota hai jo ki kisi bhi sadharana aspatala ki prakaryatmaka kshamata se bahara ki bata nahim hai | kainsara ke upachara ka mukhya adhara hai shalya-kriya aura ise jyadatara susajjita sadharana aspatalom mem puri taraha se sampadita kiya ja sakata hai| kainsara ke marija ko jo chahie vaha hai avashyaka 'roga-nidana' aura bina samaya gamvae 'upachara'| kainsara ko avisheshikrita kara dene se ise prapta karane mem madada milegi| logom ko yaha sachchai bataie ki kauna upachara kara raha hai aura kaham, yaha mahatvapurna nahim hai balki yaha ki kisa vyakti ka aura kisa chija ke lie ilaja kiya ja raha hai| kainsara ko svikara karana, vastu-sthiti jaisi hai usa para vichara karana, bina kisi hila-havale ke, bina galati ya ulajana ke, apane apa mem avishkarom ki samasta paidavara se adhika bhadra vastu hai| phransisa bekana ka ahvana kainsara chikitsaka aura kainsara ke marija donom hi ke lie prasangika hai| yaha eka shabda vichara’ apane apa mem vinanrata, dhairya aura niyantrana ki avashyakata ka sandesha lie hue hai| kainsara ko samajane ka artha hai kainsara ko svikara karana, garima ke satha| thika vaise hi jaise upayukta vyakti ke lie 'roga-nidana' apariharya hai, kainsara se grasta marija ka 'upachara' bhi avashyaka hai| jori grahama ka yaha kahana bilkula sahi hai ki kainsara anya kai rogom ki tulana mem adhika sadhya hai| parantu isa bata ko pracharita kie jane se purva grahama dvara sanketita upachara ko samaje jane ki jarurata hai| amerika, kanada aura greta britena mem apane 32 varshom ke anubhava mem mainne antarika kainsara ya stana kainsara se sta kisi bhi marija ko usa rupa mem thika hote nahim dekha hai jaisaki ama loga \"thika hone\" shabda ka artha samajate haim - arthata roga-prakriya ko dura bhaga dena aura use kabhi lautane na dena| aura dekhabhala kie jane ki isa yogyata mem eka ora to roga ki tivrata kama karana shamila hai aura dusari ora jivana ka sammana karane ke upaya| kainsara para eka sammanita alekha, jisaka shirshaka hai 'kainsara medisina', isaka sachcha aura bhavya uddeshya prakata kara raha hota hai jaba vaha eka jagaha para yaha kahata hai ki kainsara ka \"lakshanika upachara\" 'sarvottama naidanika prabandhana' ka anga hai aura vaha 'kisi bhi vishishta kainsara upachara ke merudanda' ka nirmana karata hai| chahe jitana bhi kudha़a jae, yaha agami parivartana ka eka sanketa hai ki paramparagata anga-sanrakshi prakriyaem aba angachchhedaka kainsara chikitsa ki jagaha le rahi hai| pashchima mem hala ka 'haॉsapisa muvamenta' isa tathya ki vyapaka hoti svikaryata jalakata hai ki antakari kainsara se pida़ita marija ko bhi, anya sabhi batom se pahale, sharirika aura manasika donom hi rupom mem apane astitva ke sammana ki jarurata hai| kainsara ke bare mem \"tathyom\" ka athaha sagara – kai salom se puri duniya mem aneka vaijnanikom dvara kie gae samarpita karyom ke parinama - eka upayogi, vyavaharya sanshleshana taka pahunchane dene ke lie varjaniya rupa se vishala laga sakate haim| isa pustaka mem prastuta avadharanaem aura sachchaiyam kuchha aura hi kahati haim - naidanika evam anubhavika shodha ke parinamom ko shodhakartaom, chikitsakom, ama logom, aura sabase baढ़kara, kainsara ke marijom ko rochaka evam vyapaka lagane vale eka pariprekshyatmaka rupa mem ekikrita kara sakana sambhava hai|\n",
    "kainsara kiya nahim ja sakata, ise roka nahim ja sakata| yada rakhie ki yugom se kainsara manavajati ke sanga raha hai aura isaka ghatita hona na to prakriti ka kopa hai aura na hi usaki ora se danda| pratyeka kainsara apake apane hi sva ka eka anga hai| yadi apa ise pyara nahim kara sakate to apako isase ghrina karane ki bhi jarurata nahim hai| hara kainsara apako, ya apake chikitsaka ko, tanga karane se pahale chira kala se apake sanga raha hai| kainsara ka jalda nidana/upachara eka mithaka hai jise daphana diya jana chahie| upara uddhrita kie gae karanom se, apako kainsara ke lie apani jancha karana bilkula bhi jaruri nahim hai| kainsara ke lie khuda ko tabhi pareshana kijie jaba, aura sirpha jaba, vaha vakai apako pareshana karane lage| kainsara hamesha jana nahim leta aura na hi yaha hamesha nidana ya upachara ke bada eka alpakalina jivana ki ora sanketa karata hai| apane kainsara ke satha jina taya kara lijie jaba taka ki kainsara apake satha marana pasanda kare| samajie ki yaha jaruri nahim ki kainsara apake peshe ya apake jivana ke utsaha ko bhanga kare| chunki kainsara ke ilaja jaisi koi chija nahim hai, ata: lakshanom ke upachara para ja़ora dijie aura isase age kuchha nahim| chikitsopachara ka koi bhi amula parivartanavada dava se ki gai ghrinaspada ati-hatya hai| yadi apako upachara karana hi hai to shalya-kriya ki talasha kijie; yadi apako vikirana chikitsa ya rasayanopachara diya jae to kama se kama ka agraha kijie aura phira usa koshikiya ugahi ko chukane ke lie taiyara rahie jise sira se paira taka apake sharira ko ada karana hoga| eka sammanajanaka mauta ke rupa mem apa apane sharira aura apani atma ke prati kartavya se bandhe haim| svayam ko nrityu ki garima se vanchita mata kijie|\n",
    "kainsara eka prajati hai, eka varga hai, eka kramagata charitra hai| na to apa ise uttaradhikara mem pa sakate haim aura na hi apani santati ko virasata mem de sakate haim| mahaja shabdakosha mem nihita artha se pare jane ki cheshta ki gai hai jisase adhika vyapaka pariprekshya prastuta kiya ja sake| vyakhya ke anta mem sambandhita shabda koshthaka mem ullikhita kie gae haim| yaha hippokretasa ke vichara-mantra praimama naॉna nokeyara para adharita eka samiti hai, jisaka artha hai ki koi bhi upachara kisi marija ke lie jo nyunatama karya kara sakata hai vaha hai use hani na pahunchana| eka satva, jise sharira mem pravishta karate hi vaha pratirakshi (eka prakara ka protina) aura/ya koshikaom (lasakoshikaom) ke rupa mem eka atyuchcha vishishta pratikriya ko janma deta hai| pratirakshi/koshikaom ke satha kisi pratijana ki vishishta pratikriyatmakata prayogashala parikshana mem rakta ya utaka mem isaki upasthiti ka jnana karati hai| kuchha kainsara apani koshikaom ka samvahana karate haim aura/ya rakta pratijanom mem unaka utsarjana kara dete haim, jisaka eka udaharana hai karkatabhruniya (karsinoembraॉyanika) pratijana (siie)|\n",
    "'''"
   ]
  },
  {
   "cell_type": "code",
   "execution_count": 9,
   "metadata": {},
   "outputs": [],
   "source": [
    "# split the the text in the articles into sentences\n",
    "sentences = []\n",
    "sentences.append(sent_tokenize(text))\n",
    "\n",
    "\n",
    "# flatten the list\n",
    "sentences = [y for x in sentences for y in x]"
   ]
  },
  {
   "cell_type": "code",
   "execution_count": 10,
   "metadata": {},
   "outputs": [],
   "source": [
    "# remove punctuations, numbers and special characters\n",
    "clean_sentences = pd.Series(sentences).str.replace(\"[^a-zA-Z]\", \" \")\n",
    "\n",
    "# make alphabets lowercase\n",
    "clean_sentences = [s.lower() for s in clean_sentences]"
   ]
  },
  {
   "cell_type": "code",
   "execution_count": 12,
   "metadata": {},
   "outputs": [],
   "source": [
    "word_s =[' - ', 'jaenge|', 'haim|', '\"', 'hai)|', 'paenge|', '\\n', '(', ')' ,'-', 'hai|','?', '!', ',', '|', '.', ';', ':', 'andar', 'ata', 'adi', 'apa', 'apana', 'apani', 'apani', 'apane', 'abhi', 'abhi',  'adi', 'apa', 'inhim', 'inhem', 'inhom', 'itayadi', 'ityadi', 'ina', 'inaka', 'inhim', 'inhem', 'inhom', 'isa', 'isaka', 'isaki', 'isaki', 'isake', 'isamem', 'isi', 'isi', 'ise', 'unhim', 'unhem', 'unhom', 'una', 'unaka', 'unaki', 'unaki', 'unake', 'unako', 'unhim', 'unhem', 'unhom', 'usa', 'usake', 'usi', 'usi', 'use', 'eka', 'evam', 'esa', 'ese', 'aise', 'ora', 'aura', 'kai', 'kai', 'kara', 'karata', 'karate', 'karana', 'karane', 'karem', 'kahate', 'kaha', 'ka', 'kaphi', 'kai', 'ki', 'kinhem', 'kinhom', 'kitana', 'kinhem', 'kinhom', 'kiya', 'kira', 'kisa', 'kisi', 'kisi', 'kise', 'ki', 'kuchha', 'kula', 'ke', 'ko', 'koi', 'koi', 'kona', 'konasa', 'kauna', 'kaunasa', 'gaya', 'ghara', 'jaba', 'jaham', 'jaham', 'ja', 'jinhem', 'jinhom', 'jitana', 'jidhara', 'jina', 'jinhem', 'jinhom', 'jisa', 'jise', 'jidhara', 'jesa', 'jese', 'jaisa', 'jaise', 'jo', 'taka', 'taba', 'taraha', 'tinhem', 'tinhom', 'tina', 'tinhem', 'tinhom', 'tisa', 'tise', 'to', 'tha', 'thi', 'thi', 'the', 'dabara', 'davara', 'diya', 'dusara', 'dusare', 'dusare', 'do', 'dvara', 'na', 'nahim', 'nahim', 'na', 'niche', 'nihayata', 'niche', 'ne', 'para', 'pahale', 'pura', 'pura', 'pe', 'phira', 'bani', 'bani', 'bahi', 'bahi', 'bahuta', 'bada', 'bala', 'bilakula', 'bhi', 'bhitara', 'bhi', 'bhitara', 'magara', 'mano', 'me', 'mem', 'yadi', 'yaha', 'yaham', 'yaham', 'yahi', 'yahi', 'ya', 'yiha', 'ye', 'rakhem', 'ravasa', 'raha', 'rahe', 'vasa', 'lie', 'liye', 'lekina', 'va', 'vageraha', 'varaga', 'varga', 'vaha', 'vaham', 'vaham', 'vahim', 'vahim', 'vale', 'vuha', 've', 'va', 'airaha', 'sanga', 'sakata', 'sakate', 'sabase', 'sabhi', 'sabhi', 'satha', 'sabuta', 'sabha', 'sara', 'se', 'so', 'hi', 'hi', 'hua', 'hua', 'hui', 'hui', 'hue', 'he', 'hem', 'hai', 'haim', 'ho', 'hota', 'hoti', 'hoti', 'hote', 'hona', 'hone', 'sabha', 'sara', 'se', 'so', 'hi', 'hi', 'hua', 'hua', 'hui', 'hui', 'hue', 'he', 'hem', 'hai', 'haim', 'ho', 'hota', 'hoti', 'hoti', 'hote', 'hona', 'hone''sabha', 'sara', 'se', 'so', 'hi', 'hi', 'hua', 'hua', 'hui', 'hui', 'hue', 'he', 'hem', 'hai', 'haim', 'ho', 'hota', 'hoti', 'hoti', 'hote', 'hona', 'hone']\n",
    "\n",
    "# function to remove stopwords\n",
    "def remove_stopwords(sen):\n",
    "  sen_new = \" \".join([i for i in sen if i not in word_s])\n",
    "  return sen_new\n",
    "\n",
    "# remove stopwords from the sentences\n",
    "clean_sentences = [remove_stopwords(r.split()) for r in clean_sentences]"
   ]
  },
  {
   "cell_type": "code",
   "execution_count": 3,
   "metadata": {
    "scrolled": false
   },
   "outputs": [
    {
     "name": "stderr",
     "output_type": "stream",
     "text": [
      "SYSTEM_WGETRC = c:/progra~1/wget/etc/wgetrc\n",
      "syswgetrc = C:\\Program Files (x86)\\GnuWin32/etc/wgetrc\n",
      "--2019-07-13 14:16:48--  http://nlp.stanford.edu/data/glove.6B.zip\n",
      "Resolving nlp.stanford.edu... 171.64.67.140\n",
      "Connecting to nlp.stanford.edu|171.64.67.140|:80... connected.\n",
      "HTTP request sent, awaiting response... 302 Found\n",
      "Location: https://nlp.stanford.edu/data/glove.6B.zip [following]\n",
      "--2019-07-13 14:16:50--  https://nlp.stanford.edu/data/glove.6B.zip\n",
      "Connecting to nlp.stanford.edu|171.64.67.140|:443... connected.\n",
      "ERROR: cannot verify nlp.stanford.edu's certificate, issued by `/C=US/ST=MI/L=Ann Arbor/O=Internet2/OU=InCommon/CN=InCommon RSA Server CA':\n",
      "  Self-signed certificate encountered.\n",
      "To connect to nlp.stanford.edu insecurely, use `--no-check-certificate'.\n",
      "Unable to establish SSL connection.\n"
     ]
    }
   ],
   "source": [
    "# download pretrained GloVe word embeddings\n",
    "! wget http://nlp.stanford.edu/data/glove.6B.zip"
   ]
  },
  {
   "cell_type": "code",
   "execution_count": 23,
   "metadata": {},
   "outputs": [
    {
     "name": "stderr",
     "output_type": "stream",
     "text": [
      "unzip:  cannot find or open glove*.zip, glove*.zip.zip or glove*.zip.ZIP.\n",
      "\n",
      "No zipfiles found.\n"
     ]
    }
   ],
   "source": [
    "! unzip glove*.zip\n"
   ]
  },
  {
   "cell_type": "code",
   "execution_count": null,
   "metadata": {},
   "outputs": [],
   "source": []
  },
  {
   "cell_type": "code",
   "execution_count": null,
   "metadata": {},
   "outputs": [],
   "source": []
  }
 ],
 "metadata": {
  "kernelspec": {
   "display_name": "Python 3",
   "language": "python",
   "name": "python3"
  },
  "language_info": {
   "codemirror_mode": {
    "name": "ipython",
    "version": 3
   },
   "file_extension": ".py",
   "mimetype": "text/x-python",
   "name": "python",
   "nbconvert_exporter": "python",
   "pygments_lexer": "ipython3",
   "version": "3.7.3"
  }
 },
 "nbformat": 4,
 "nbformat_minor": 2
}
