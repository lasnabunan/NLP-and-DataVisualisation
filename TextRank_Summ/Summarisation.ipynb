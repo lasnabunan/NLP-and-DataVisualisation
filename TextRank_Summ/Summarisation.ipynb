{
 "cells": [
  {
   "cell_type": "code",
   "execution_count": 24,
   "metadata": {},
   "outputs": [],
   "source": [
    "text = '''Istiodactylus is a genus of pterosaur that lived during the Early Cretaceous period, about 120 million years ago. The first fossil was discovered on the Isle of Wight in England, and became the holotype specimen of a new species, O. latidens (Latin for \"wide tooth\"), in the genus Ornithodesmus in 1901. This species was moved to its own genus, Istiodactylus, in 2001; this name is Greek for \"sail finger\". More specimens were described in 1913, and Istiodactylus was the only pterosaur known from three-dimensionally preserved fossils for much of the 20th century. In 2006, a species from China, I. sinensis, was assigned to Istiodactylus, but it has since been found to belong to a different genus. Istiodactylus was a large pterosaur; estimates of its wingspan range from 4.3 to 5 metres (14 to 16 ft) long. Its skull was about 45 centimetres (18 in) long, and was relatively short and broad for a pterosaur. The front of the snout was low and blunt, and bore a semicircle of 48 teeth. The triangular teeth were closely spaced, interlocked, and formed a \"razor-edged\" outline. The lower jaw also had a tooth-like projection that occluded with the teeth. The skull had a very large naso-antorbital opening (which combined the antorbital fenestra and the opening for the bony nostril) and a slender eye socket. Some of the vertebrae were fused into a notarium, to which the shoulder blades connected. It had very large forelimbs, with a wing-membrane distended by a long wing-finger, but the hindlimbs were very short. Until the 21st century, Istiodactylus was the only known pterosaur of its kind, and was placed in its own family, Istiodactylidae, within the group Ornithocheiroidea. Istiodactylus differed from other istiodactylids by having a proportionally shorter skull. The distinctive teeth of Istiodactylus indicate that it was a scavenger that may have used its teeth to sever morsels from large carcasses in the manner of a cookie cutter. The wings of Istiodactylus may have been adapted for soaring, which would have helped it find carcasses before terrestrial carnivores. Istiodactylus is known from the Wessex Formation and the younger Vectis Formation, which represent river and coastal environments that were shared with various pterosaurs, dinosaurs, and other animals.'''"
   ]
  },
  {
   "cell_type": "code",
   "execution_count": 20,
   "metadata": {},
   "outputs": [],
   "source": [
    "from summa import summarizer"
   ]
  },
  {
   "cell_type": "code",
   "execution_count": 25,
   "metadata": {},
   "outputs": [
    {
     "name": "stdout",
     "output_type": "stream",
     "text": [
      "This species was moved to its own genus, Istiodactylus, in 2001; this name is Greek for \"sail finger\".\n",
      "More specimens were described in 1913, and Istiodactylus was the only pterosaur known from three-dimensionally preserved fossils for much of the 20th century.\n",
      "Istiodactylus was a large pterosaur; estimates of its wingspan range from 4.3 to 5 metres (14 to 16 ft) long.\n",
      "The distinctive teeth of Istiodactylus indicate that it was a scavenger that may have used its teeth to sever morsels from large carcasses in the manner of a cookie cutter.\n"
     ]
    }
   ],
   "source": [
    "print(summarizer.summarize(text, ratio = 0.2))"
   ]
  },
  {
   "cell_type": "code",
   "execution_count": 15,
   "metadata": {},
   "outputs": [
    {
     "name": "stdout",
     "output_type": "stream",
     "text": [
      "abataka hama loga yaha bodha vikasita karane mem sakshama ho gae haim ki yadi kainsara takaliphadeha na ho to kuchha bhi karane ki jarurata nahim hai, yaham taka ki nidana bhi nahim, aura isa prakara sabhi anusandhanom para hone vala kharcha bachaya ja sakata hai jo anyatha hota hai| ekabara yadi nidana ho jane para upachara apariharya nahim hai| yadi kainsara takaliphadeha hai, to alpatama hi kiya jana chahie| ajakala, amula shalya-kriya ke bada stana kainsara ke sandarbha mem jo parinama prapta hote haim lagabhaga vaise hi parinama mahaja stana-arbuda ke uchchhedana ke bada samane ate haim| aisa nyunatama upachara anya prakara ke kaisarom mem bhi vyavaharya hai - purusha-granthi, peta, agnyashaya, ityadi| kainsara visheshajnom ko aura adhika dhana kamane ke lie \"logom ke satha samanom ki taraha\" vyavahara karane ki chhuta nahim hai| salom se kainsara ke ऑpareshana marija ke labha ke bajaya vyaktigata labha ke lie kie jate rahe; abhi bhi kula milakara sthiti mem koi antara nahim aya hai| anavashyaka shalya-kriya' ki vartamana dara shalya chikitsakom ke ‘arthika’ labha para shaॉ dvara kie gae prahara ko nyayasangata thaharati hai| arle ke shabdom mem kaha jae to abhi taka kainsara sambandhi shodha ka artha yaha nikala hai ki jyadatara loga kainsara se marane ke bajaya kainsara ke para jite haim| phira bhi, mera vishvasa hai ki amariki aushadhi ke sara-sankshepa ko koi vyakti isa ukti ke adhara para uchita rupa se tarkasangata karara de sakata hai ki jo kisi roga-dasha ka chuhe ya kutte mem upachara sambhava bana sakata hai use, utane hi dhana, prayasa aura buddhi ke satha, manushya ki aushadhi para bhi lagu kiya ja sakata hai| barneta ne jo bata amerika ke bare mem kahi hai, kisi bhi anya desha para lagu ki ja sakati hai| bambai mem 1952 mem sansthapita kainsara shodha sansthana bharata sarakara ke paramanu urja sansthapana ke adhina eka vitta-poshita sanstha hai| isa pancha-manjili imarata mem ve adhikatara chijem haim jo kisi kainsara sansthana mem ho sakati haim| yaha apani eka bahurangi, janasamanya ke upayoga ke lie uddishta, pustika mem tamama chatukaritapurna varnana deta hai jisamem samanya, kainsara-purva evam kainsarakaraka utakom ke adhyayana ke lie 200,000 guna baड़a avardhana dene vale philipa iema 300 ilektraॉna sukshmadarshi ki janakari bhi shamila hai| vijnana ko manushya ke lie satya ki khoja hona chahie| bajata anuprayoga ka ekamatra ansha hai jisamem ja़ra bhi sara hai| vittiya koshom ke upayoga ke sandarbha mem rashtriya svasthya sansthana (amarika) ke adhyayana anubhaga ke eka sadasya ki uparyukta tippani kainsara vijnana ke bare mem hiksana ka eka drishtanta hai ki jaba kya kiya jae yaha samaja mem na ae to aura adhika arthika sahayata ki manga karo| sankaya arjita vittiya kosha ke prashasana mem nimagna haim, aura unaka prachalita sahityika kaushala hai vittiya kosha ke lie yachana-prastava likhana| sankshepa mem, akadamika jivana vichara-chintana ke lie na hokara, sakriyata ka bana gaya hai| aja vijnana mem kisi vyakti ki pahachana isa bata se hoti hai ki vaha kitana kosha la raha hai| amerika mem, kainsara ke shodha ke lie varshika vyaya shighra hi 1 kharaba daॉlara ke stara para pahuncha jaega, aura sirpha़ mudra-sphiti se kadama milate hue ise prati varsha kama se kama 1 karoड़ daॉlara ki dara se baढ़ana hoga| kainsara ke pasa pitja़a, madhyanha bhojana, thietara partiyam, kosha ekatrita karane ke luau aura chamaka-damaka haim, aura 'vastavika daॉlara tatha pratishtha mem', hridaya/mana: roga bhi isaki barabari nahim kara sakate haim| unhem chinta karane ki jarurata nahim; kainsara unhem nirasha nahim karega; kainsara ke bare mem logom ki samaja aisa kara sakati hai| kainsara vijnana ka yaha sansara hai jonsom ke satha-satha na chala pane ki ati samanya manaviya asaphalata| kisi sanstha dvara arjita raikhika gativardhaka kisi anya (sanstha) ke jyada baड़e gativardhaka ke samane lajjita ho uthata hai| barmaina yaha vivarana dete haim ki kisa prakara jaba kisi namachina hasti ko kuchha ho jata hai to sansthaem isase apani punji jutane mem bhiड़ jati haim| bharata ke rashtrapati, sanjiva reddi, ko phephaड़e ke arbuda se grasta paya gaya| hamesha ki taraha ke dhumadhama ke satha unhem vimana se kainsara shodha ke makka- slona-ketaringa instityuta, nyuyaॉrka, le jaya gaya| kisi prakara, bharata sarakara ko yaha samaja diya gaya ki aisa to karana hi tha, kyonki bharata ke pasa raikhika gativardhaka nahim hai| kisi ne virodha jataya, parantu sansthapana ke kolahala mem usaki avaja duba kara raha gai| rashtrapati ki bimari se apeksha ki jati hai ki vaha bharata ke pramukha kainsara kendrom ke lie pratishthita raikhika gativardhaka ki virasata chhoड़ jaegi| varsha 1968 ke lie amerika ne, pratyaksha ya apratyaksha rupa se, kainsara para 15 biliyana daॉlara kharcha kie| 1994 mem svasthya avadhana para kula vyaya pratidina biliyana daॉlara se bhi adhika jane ka anumana hai| nissandeha, isaka eka kapha़i baड़a hissa avashya hi kainsara ke nidana, punarnidana, upachara tatha punaruupachara ke lie hoga| bahuta sare bharatiya jo svayam apane evam samaja ke lie eka upayogi jivana ji sakane mem sakshama haim, dhana ke abhava mem upachara ki yachana karane jate haim - chahe vaha tyubarkyulosisa, kushtha, ya jirna poliyonyelaitisa ke lie ho - jabaki apani tamama parishkrita suvidhaom ke satha kainsara shodha evam upachara bambai, dilli, kalakatta aura madrasa ke mukhya kendrom mem chhae hue haim jaham ve sanriddha pashchimi jagata ka andhanukarana karate haim| svayam bharatiya kainsara sosayati, apane janma se hi, 'amerikana kainsara sosayati ki mahatvapurna seva se utprerita' thi|\n"
     ]
    }
   ],
   "source": [
    "print(summarizer.summarize(text, words = 450))"
   ]
  },
  {
   "cell_type": "code",
   "execution_count": null,
   "metadata": {},
   "outputs": [],
   "source": []
  }
 ],
 "metadata": {
  "kernelspec": {
   "display_name": "Python 3",
   "language": "python",
   "name": "python3"
  },
  "language_info": {
   "codemirror_mode": {
    "name": "ipython",
    "version": 3
   },
   "file_extension": ".py",
   "mimetype": "text/x-python",
   "name": "python",
   "nbconvert_exporter": "python",
   "pygments_lexer": "ipython3",
   "version": "3.7.3"
  }
 },
 "nbformat": 4,
 "nbformat_minor": 2
}
